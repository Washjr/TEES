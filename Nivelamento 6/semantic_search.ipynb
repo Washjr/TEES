{
 "cells": [
  {
   "cell_type": "markdown",
   "id": "9e6b6a64",
   "metadata": {},
   "source": [
    "## Imports"
   ]
  },
  {
   "cell_type": "code",
   "execution_count": 2,
   "id": "ac004347",
   "metadata": {},
   "outputs": [],
   "source": [
    "import getpass\n",
    "import os\n",
    "from typing import List\n",
    "\n",
    "from langchain.chat_models import init_chat_model\n",
    "from langchain_openai import OpenAIEmbeddings\n",
    "from langchain_community.document_loaders import PyPDFLoader\n",
    "from langchain_text_splitters import RecursiveCharacterTextSplitter\n",
    "\n",
    "from langchain_core.documents import Document\n",
    "from langchain_core.runnables import chain\n",
    "from langchain_core.vectorstores import InMemoryVectorStore"
   ]
  },
  {
   "cell_type": "markdown",
   "id": "9b12a7af",
   "metadata": {},
   "source": [
    "## LangSmith"
   ]
  },
  {
   "cell_type": "code",
   "execution_count": 3,
   "id": "0d23edf6",
   "metadata": {},
   "outputs": [],
   "source": [
    "try:\n",
    "    # load environment variables from .env file (requires `python-dotenv`)\n",
    "    from dotenv import load_dotenv\n",
    "\n",
    "    load_dotenv()\n",
    "except ImportError:\n",
    "    pass\n",
    "\n",
    "os.environ[\"LANGSMITH_TRACING\"] = \"true\"\n",
    "if \"LANGSMITH_API_KEY\" not in os.environ:\n",
    "    os.environ[\"LANGSMITH_API_KEY\"] = getpass.getpass(\n",
    "        prompt=\"Enter your LangSmith API key (optional): \"\n",
    "    )\n",
    "\n",
    "if \"LANGSMITH_PROJECT\" not in os.environ:\n",
    "    os.environ[\"LANGSMITH_PROJECT\"] = getpass.getpass(\n",
    "        prompt='Enter your LangSmith Project Name (default = \"default\"): '\n",
    "    )\n",
    "    if not os.environ.get(\"LANGSMITH_PROJECT\"):\n",
    "        os.environ[\"LANGSMITH_PROJECT\"] = \"default\""
   ]
  },
  {
   "cell_type": "markdown",
   "id": "18d2b74e",
   "metadata": {},
   "source": [
    "## OpenAI Language Model"
   ]
  },
  {
   "cell_type": "code",
   "execution_count": 21,
   "id": "54cd9ec5",
   "metadata": {},
   "outputs": [],
   "source": [
    "if \"OPENAI_API_KEY\" not in os.environ:\n",
    "    os.environ[\"OPENAI_API_KEY\"] = getpass.getpass(\n",
    "        prompt=\"Enter your OpenAI API key (required if using OpenAI): \"        \n",
    "    )\n",
    "\n",
    "model = init_chat_model(\"gpt-4o-mini\", model_provider=\"openai\")"
   ]
  },
  {
   "cell_type": "markdown",
   "id": "b59a1554",
   "metadata": {},
   "source": [
    "## Documents"
   ]
  },
  {
   "cell_type": "code",
   "execution_count": 4,
   "id": "ff804793",
   "metadata": {},
   "outputs": [],
   "source": [
    "documents = [\n",
    "    Document(\n",
    "        page_content=\"Dogs are great companions, known for their loyalty and friendliness.\",\n",
    "        metadata={\"source\": \"mammal-pets-doc\"},\n",
    "    ),\n",
    "    Document(\n",
    "        page_content=\"Cats are independent pets that often enjoy their own space.\",\n",
    "        metadata={\"source\": \"mammal-pets-doc\"},\n",
    "    ),\n",
    "]"
   ]
  },
  {
   "cell_type": "markdown",
   "id": "03da65ad",
   "metadata": {},
   "source": [
    "## Document Loader"
   ]
  },
  {
   "cell_type": "code",
   "execution_count": 15,
   "id": "afff75b0",
   "metadata": {},
   "outputs": [],
   "source": [
    "file_path = \"nke-10k-2023.pdf\"\n",
    "loader = PyPDFLoader(file_path)\n",
    "\n",
    "docs = loader.load()"
   ]
  },
  {
   "cell_type": "code",
   "execution_count": 14,
   "id": "a90a8f27",
   "metadata": {},
   "outputs": [
    {
     "name": "stdout",
     "output_type": "stream",
     "text": [
      "107\n"
     ]
    }
   ],
   "source": [
    "print(len(docs))"
   ]
  },
  {
   "cell_type": "code",
   "execution_count": 13,
   "id": "827d2f10",
   "metadata": {},
   "outputs": [
    {
     "name": "stdout",
     "output_type": "stream",
     "text": [
      "Table of Contents\n",
      "UNITED STATES\n",
      "SECURITIES AND EXCHANGE COMMISSION\n",
      "Washington, D.C. 20549\n",
      "FORM 10-K\n",
      "(Mark One)\n",
      "☑  ANNUAL REPORT PURSUANT TO SECTION 13 OR 15(D) OF THE SECURITIES EXCHANGE ACT OF 1934\n",
      "F\n",
      "\n"
     ]
    }
   ],
   "source": [
    "print(f\"{docs[0].page_content[:200]}\\n\")"
   ]
  },
  {
   "cell_type": "code",
   "execution_count": 16,
   "id": "c8d584db",
   "metadata": {},
   "outputs": [
    {
     "name": "stdout",
     "output_type": "stream",
     "text": [
      "{'producer': 'EDGRpdf Service w/ EO.Pdf 22.0.40.0', 'creator': 'EDGAR Filing HTML Converter', 'creationdate': '2023-07-20T16:22:00-04:00', 'title': '0000320187-23-000039', 'author': 'EDGAR Online, a division of Donnelley Financial Solutions', 'subject': 'Form 10-K filed on 2023-07-20 for the period ending 2023-05-31', 'keywords': '0000320187-23-000039; ; 10-K', 'moddate': '2023-07-20T16:22:08-04:00', 'source': 'nke-10k-2023.pdf', 'total_pages': 107, 'page': 0, 'page_label': '1'}\n"
     ]
    }
   ],
   "source": [
    "print(docs[0].metadata)"
   ]
  },
  {
   "cell_type": "markdown",
   "id": "bef028ce",
   "metadata": {},
   "source": [
    "## Text splitter"
   ]
  },
  {
   "cell_type": "code",
   "execution_count": 17,
   "id": "dc38e750",
   "metadata": {},
   "outputs": [
    {
     "data": {
      "text/plain": [
       "516"
      ]
     },
     "execution_count": 17,
     "metadata": {},
     "output_type": "execute_result"
    }
   ],
   "source": [
    "text_splitter = RecursiveCharacterTextSplitter(\n",
    "    chunk_size=1000, chunk_overlap=200, add_start_index=True\n",
    ")\n",
    "all_splits = text_splitter.split_documents(docs)\n",
    "\n",
    "len(all_splits)"
   ]
  },
  {
   "cell_type": "code",
   "execution_count": 24,
   "id": "5d4c15ef",
   "metadata": {},
   "outputs": [
    {
     "data": {
      "text/plain": [
       "Document(metadata={'producer': 'EDGRpdf Service w/ EO.Pdf 22.0.40.0', 'creator': 'EDGAR Filing HTML Converter', 'creationdate': '2023-07-20T16:22:00-04:00', 'title': '0000320187-23-000039', 'author': 'EDGAR Online, a division of Donnelley Financial Solutions', 'subject': 'Form 10-K filed on 2023-07-20 for the period ending 2023-05-31', 'keywords': '0000320187-23-000039; ; 10-K', 'moddate': '2023-07-20T16:22:08-04:00', 'source': 'nke-10k-2023.pdf', 'total_pages': 107, 'page': 0, 'page_label': '1', 'start_index': 0}, page_content=\"Table of Contents\\nUNITED STATES\\nSECURITIES AND EXCHANGE COMMISSION\\nWashington, D.C. 20549\\nFORM 10-K\\n(Mark One)\\n☑  ANNUAL REPORT PURSUANT TO SECTION 13 OR 15(D) OF THE SECURITIES EXCHANGE ACT OF 1934\\nFOR THE FISCAL YEAR ENDED MAY 31, 2023\\nOR\\n☐  TRANSITION REPORT PURSUANT TO SECTION 13 OR 15(D) OF THE SECURITIES EXCHANGE ACT OF 1934\\nFOR THE TRANSITION PERIOD FROM                         TO                         .\\nCommission File No. 1-10635\\nNIKE, Inc.\\n(Exact name of Registrant as specified in its charter)\\nOregon 93-0584541\\n(State or other jurisdiction of incorporation) (IRS Employer Identification No.)\\nOne Bowerman Drive, Beaverton, Oregon 97005-6453\\n(Address of principal executive offices and zip code)\\n(503) 671-6453\\n(Registrant's telephone number, including area code)\\nSECURITIES REGISTERED PURSUANT TO SECTION 12(B) OF THE ACT:\\nClass B Common Stock NKE New York Stock Exchange\\n(Title of each class) (Trading symbol) (Name of each exchange on which registered)\")"
      ]
     },
     "execution_count": 24,
     "metadata": {},
     "output_type": "execute_result"
    }
   ],
   "source": [
    "all_splits[0]"
   ]
  },
  {
   "cell_type": "markdown",
   "id": "d9a92e2d",
   "metadata": {},
   "source": [
    "## Embeddings"
   ]
  },
  {
   "cell_type": "code",
   "execution_count": 22,
   "id": "a31c7759",
   "metadata": {},
   "outputs": [],
   "source": [
    "embeddings = OpenAIEmbeddings(model=\"text-embedding-3-large\")"
   ]
  },
  {
   "cell_type": "code",
   "execution_count": 23,
   "id": "eef856d3",
   "metadata": {},
   "outputs": [
    {
     "name": "stdout",
     "output_type": "stream",
     "text": [
      "Generated vectors of length 3072\n",
      "\n",
      "[0.00923094805330038, -0.015835203230381012, 0.00033537234412506223, 0.0063947453163564205, 0.020613281056284904, -0.039225272834300995, -0.007467311341315508, 0.04107646644115448, -0.007923855446279049, 0.05983855575323105]\n"
     ]
    }
   ],
   "source": [
    "vector_1 = embeddings.embed_query(all_splits[0].page_content)\n",
    "vector_2 = embeddings.embed_query(all_splits[1].page_content)\n",
    "\n",
    "assert len(vector_1) == len(vector_2)\n",
    "print(f\"Generated vectors of length {len(vector_1)}\\n\")\n",
    "print(vector_1[:10])"
   ]
  },
  {
   "cell_type": "markdown",
   "id": "5798adc9",
   "metadata": {},
   "source": [
    "## Vector stores"
   ]
  },
  {
   "cell_type": "code",
   "execution_count": null,
   "id": "459f3a80",
   "metadata": {},
   "outputs": [
    {
     "data": {
      "text/plain": [
       "['be435029-a6b6-4597-9189-7f863d745dde',\n",
       " 'feaf3c21-9c21-4a28-a01c-a84cf3fb9cfc',\n",
       " '90f30d0d-2252-4b12-a942-9850d5980dec',\n",
       " 'e233f67b-6332-4512-93a1-0a68a1aecc20',\n",
       " 'f3f4ad4a-8755-4dd7-8a8c-0cf4ea638afb',\n",
       " '91a420a0-3e8b-4542-90a4-740ed5c99bfd',\n",
       " '82427173-7e15-4d6f-af34-0629e3f6432d',\n",
       " 'bf481ec3-0231-40f0-ad7d-5103df433d43',\n",
       " 'fcf88007-1976-478e-90fd-cc4754c47ea8',\n",
       " 'd36a71a2-31f0-43ae-bd76-7ae7c3d88f60',\n",
       " 'c70c8f8e-7534-4472-98e6-32f711a8404b',\n",
       " 'bb0776fa-c7c1-4d08-917d-40e08792c0b6',\n",
       " '0a60d987-2bd2-4666-af42-508b9df0c4bd',\n",
       " '249542d7-e50d-48e6-b16e-4cc6a6b59bfe',\n",
       " '73791795-ce3c-44a1-a0ee-d3a6c9856c97',\n",
       " '466b24f3-0cb5-4c63-9318-2a0482aa13f2',\n",
       " '2dfd0403-2998-4cd1-81e3-978f690cd4f6',\n",
       " '4cd9e519-bad5-4899-ae07-8ae29d584595',\n",
       " '10b273eb-eafe-4823-b2f7-4ebb9c21af71',\n",
       " '52df98ce-fd27-405d-afa5-46dba0e72fb4',\n",
       " 'c1bcfbaa-e614-414f-88b9-f62587c10e4c',\n",
       " 'be6fbe72-dfa3-4df9-a4f8-2a767a8fad1d',\n",
       " '5e0767bb-c9a2-495b-9af2-a2b3797e90a9',\n",
       " '7cd7f043-34aa-43cb-b662-bf436e9e3ead',\n",
       " '0a1be1a1-4f55-4cab-9d31-a917064485f6',\n",
       " '44b5a5b5-3a08-4bb7-8d0d-62f073867376',\n",
       " '6719fe45-dfc2-4a6e-958f-e4d106f10c15',\n",
       " '0049f65f-3426-4a9e-9780-70bf51e5fc34',\n",
       " '2f130dd2-cec8-4b9e-8963-d28b37501915',\n",
       " '988d5e37-442c-4c0e-9aeb-250a383de08c',\n",
       " '2bc2e30b-bee1-4d2c-941d-ff5b4df7612b',\n",
       " '61e7b8a4-3e9e-413e-b4ac-835fa34d9fc2',\n",
       " '509c2608-fb9a-4fcc-80d8-97a54e49d531',\n",
       " '415d2761-c346-4fa9-bae5-22faf95586b4',\n",
       " 'b3878a5e-21fc-49b8-841e-22adf7ac802d',\n",
       " '9f017734-8b54-4a3a-9a45-da195cc6c2a9',\n",
       " 'd98c0812-1c61-46dd-8708-592d67bc7558',\n",
       " 'a392fdf1-09f7-4e5e-a264-1b547e8036d6',\n",
       " 'ebc4c767-0df7-42aa-b1ab-128d1850943f',\n",
       " '4bbda166-b189-42e7-abc9-f9833523ad38',\n",
       " '247a890a-8086-4975-aac8-485039b268c5',\n",
       " '94c58ad0-edfd-40ff-9015-0c654be1bd19',\n",
       " '6b7abc12-288b-4d1f-9ef4-68a6b5fa5595',\n",
       " '74440fcd-b75e-4669-aea1-ff0e3c7c7415',\n",
       " '75e15c70-5178-4e2d-9f23-210d701c2497',\n",
       " '48c39f2f-db90-48d7-b8a9-017bd1aac166',\n",
       " '87cfe15e-6171-4222-9ab7-7e6f6b0dd7e4',\n",
       " '61e2e743-997c-4821-8fe2-7ef357ba26b4',\n",
       " '559fd979-4046-4a94-9d8c-8ce2f7dae0dd',\n",
       " '1b86373d-6728-4063-a9b1-71030104dff8',\n",
       " 'e779e88c-09da-4996-bbb0-7f7df24ef475',\n",
       " '7d4a6167-df35-412d-a48f-35b2d9b13bd8',\n",
       " 'b2adb9a5-c744-4a98-9fbe-06c229a86d59',\n",
       " '86c24fb2-695b-452e-990d-d2723ad5db31',\n",
       " 'b289c5e9-ad61-43c1-97e7-73d3549ffbcc',\n",
       " 'b44e156f-bc2a-46e1-8a51-af83f2551c65',\n",
       " '6871c1d2-3287-44a0-bfd4-f774101a4fa4',\n",
       " '7a7aa364-1fa1-4331-bfd1-6f5db30990b6',\n",
       " '950e5336-26ce-4399-aca7-9b284ee8de26',\n",
       " '19a740d9-9889-43d2-96e2-8920d7676c40',\n",
       " '05ca97d7-1eb8-4020-a00d-d9a9262d1097',\n",
       " '44988f0d-5dcc-4cde-8737-e98f9903cb61',\n",
       " '5ce65a58-8d91-49f2-98fa-4466efad6670',\n",
       " '8c297c89-2987-4d9e-8fae-6dc7b6f998d4',\n",
       " '99153a79-a524-404c-900d-dadd750c14bc',\n",
       " 'e0540840-2c23-48c9-b083-0c587b4e3023',\n",
       " 'd3d3beae-2ff8-45f5-b231-7fad26688499',\n",
       " '747d53b9-6310-41d7-8174-9767411d7824',\n",
       " '5e090963-4b99-46ec-98cd-29a9e21897a1',\n",
       " 'dd0d7f85-4108-453b-a336-3447562fae0a',\n",
       " 'f0331031-8d8a-4cb1-87b1-609c55e308e3',\n",
       " 'b8ef161a-63b0-4535-8b5f-33d5c9d66d3e',\n",
       " 'c430e437-e993-4232-a8f0-09e6797298e7',\n",
       " '5add27e3-8b0d-46b0-ac6a-264d6eedc393',\n",
       " '2ea1b0df-783a-45bd-afd9-9b3d507354d4',\n",
       " 'fd3110c2-828d-4502-a344-5b68c04d9bf5',\n",
       " '7bde0fee-3104-4596-a869-2de28b12d0c2',\n",
       " '13fbd79c-a5f8-4b97-bcf2-f5e49f3ce904',\n",
       " 'ccb6053d-5ae9-4dec-a47e-6832b7a3d400',\n",
       " 'db68c9f5-9d01-4ba8-a5c1-343229df243d',\n",
       " '5650208f-4f3c-4140-a179-6a1b9e3b7927',\n",
       " '5d268a98-6415-4bc5-a9f5-f457675d1106',\n",
       " 'e0fad3c0-97f5-4f26-bee4-ac0cca56e896',\n",
       " 'ab657824-1e5a-4b07-a63b-22aefe333d65',\n",
       " '339ef12b-8639-4591-b2ed-4b8bfcdd581a',\n",
       " 'f3e6800b-2483-4402-81a1-fc2644e802e4',\n",
       " 'ff59e756-2277-4cae-a403-930544bff6d9',\n",
       " '9fa59746-6cde-4cc2-9857-40b27e66632f',\n",
       " '23e0a320-ffd9-4261-8ab4-a752f9070313',\n",
       " '641a61a2-4b84-43cb-a1f9-6a7dfbfe296d',\n",
       " '1bc7b523-3da7-4e41-a9c5-dc6d981bf9b8',\n",
       " 'bdcf1e38-2345-4c47-be7c-771f1eeb470b',\n",
       " '00b1c2bb-c9bd-43f5-b68d-869461e7ce5a',\n",
       " 'f08c1ebe-0d5e-4aaf-ab07-6b278042d0cf',\n",
       " '50cf49fa-157f-47c5-a4af-b90302c8344c',\n",
       " 'e416f4a1-5e26-4bb1-9b36-ca33c151dce7',\n",
       " '9af53495-b854-4cff-a096-1df349eaa183',\n",
       " 'a97fd22e-6631-4b41-aae0-4452491b681f',\n",
       " 'a8a88565-3c86-4b83-a116-014347de8890',\n",
       " 'dd3141b9-1ffc-4710-9981-45b95096a0ea',\n",
       " '9fbd54bf-80e1-426e-898a-d60fc7fd658a',\n",
       " '02025cab-1c59-45a3-9517-79dca0376e84',\n",
       " '60ff9e9a-48f6-400d-8774-6caed5358df6',\n",
       " 'fc4526fb-04b8-44a5-a48b-e57585ceafad',\n",
       " '6ae3882a-045a-4f4a-b4fc-e48d8118ee91',\n",
       " '0e0a7c89-8677-46f3-ac8e-8fb912975c86',\n",
       " 'ce6942e7-3dc3-4616-9475-a33a8eab7525',\n",
       " 'ec9c7680-2123-40d9-88df-0058cb74e358',\n",
       " 'e352bd63-b2f3-41bd-ad29-83894cbb5cc9',\n",
       " 'a6989266-3c46-49af-85c8-119c32409fd0',\n",
       " '25a6b4a8-7545-49cb-8284-1eccfde61593',\n",
       " '29f38460-c162-48c9-951f-fbf5a2bc80b0',\n",
       " '6a7f87af-2ce9-4ec3-92ef-c0c77901cb8b',\n",
       " '7361bea3-983b-42e4-be54-fb18d8931af6',\n",
       " 'cfdd9a7a-512b-429f-afa6-c2524a2c5604',\n",
       " '962c5d43-555e-4ea8-8b30-6d50cf987851',\n",
       " '05bf776e-f0b2-4779-a92e-16d4d9186ab3',\n",
       " '9bb0f56e-cbf3-462e-bd6b-dcf7bf4332d0',\n",
       " '0332667a-0dc1-49e8-971d-fe06f6725d7e',\n",
       " '6fefd295-3717-4d7f-9b01-0db68164ac07',\n",
       " 'f7e36ce7-6bb9-4b8b-aad5-36b55ecbcd44',\n",
       " 'ac1589e9-ff6e-4e64-a1db-274c6a210622',\n",
       " 'bcf33414-0011-4b7a-b1d3-e7f744912974',\n",
       " '5d65eaa5-2150-40b9-961d-938105542142',\n",
       " 'b9369bfb-243d-44d3-978e-dadf4ca8e4d9',\n",
       " 'a83a8055-73d6-4f59-875d-c099b3852f91',\n",
       " 'b0a726a3-9822-4355-a6a3-c4e653dfa857',\n",
       " 'a7377e24-6290-4070-a971-c06e93d2b1d2',\n",
       " '6f23a47a-a378-40e4-a62c-2fc7a0a37be6',\n",
       " 'cf5d698c-d659-4af3-8976-11728e1ddd9f',\n",
       " 'bd909381-a744-490c-bd25-ed672b0ae388',\n",
       " 'a1d450be-325e-4975-a414-9e8b8b6d34c2',\n",
       " '6ca2242c-93c9-40bf-8495-8377f06ef139',\n",
       " 'e1c0c0da-980d-4df5-b0dc-e74af1f93fe8',\n",
       " '26200d45-a1fd-42b6-9a0d-e74bfc33dcd7',\n",
       " '190cb8e6-dd77-4c2b-bdeb-bfff2d1229b7',\n",
       " 'dce5b091-ecd9-45a6-9f30-09181f89fa11',\n",
       " '114ef235-5b32-44d8-b9c7-9afa8e0c3faf',\n",
       " 'f1931147-c69f-4d7b-baf0-925ab49255b9',\n",
       " '211fe2a8-5d6d-494f-b338-b976af11ce5f',\n",
       " 'fc2bf406-7d87-4944-9a1b-bda51994f7af',\n",
       " '783c6d27-ad02-4fa7-8db6-3e2e3d055409',\n",
       " '762037ee-baa5-4898-a73a-33d6a90f3fe6',\n",
       " 'da60ebe9-8f16-42da-87d0-d14a3470e412',\n",
       " 'dce74598-2ade-4f49-a7b4-63a8209b9826',\n",
       " '7a6c859e-2dc2-42aa-a81f-fa38c020fc11',\n",
       " '37236114-48b0-4c1c-af4d-e783e4d51c2b',\n",
       " 'f9987218-5fc9-4a87-93aa-63261dc918a1',\n",
       " '200145a1-1f2d-4a25-a447-a70b171a2887',\n",
       " 'dab68222-7154-4e71-9ef0-e00093ba3eb5',\n",
       " 'a496b977-9ba6-412d-a9ce-2b17401a66ca',\n",
       " 'd710249b-a222-4415-8788-03d69c1a88c9',\n",
       " 'd47d94cb-2a0e-425a-9f59-9078080b8273',\n",
       " '04c944c3-b9b7-4cac-bd40-28f4c270dd81',\n",
       " 'dbac3221-b6b9-45e6-a6a7-d39c01b2a991',\n",
       " '4d4c86bf-d1a3-4308-a0bf-0760f4ba76dc',\n",
       " '896b60af-3d64-4dca-b799-bb95db147415',\n",
       " '93950f58-a1ce-4e9c-9413-7f2011984d6f',\n",
       " '28ff7df6-bf6e-408e-a4fc-bc9dc9986ad0',\n",
       " '1a502abe-3592-4457-b9b7-0607e5209259',\n",
       " '9e7d71a2-cb03-4885-94d8-0f0df2404b5f',\n",
       " 'a1e47e8a-b25a-4da1-84eb-846dc736a39b',\n",
       " '1a704623-dd30-4803-b6b4-a413049f2a3c',\n",
       " '5c7e3430-f2b5-47c0-8933-fc4410128304',\n",
       " '104d0bad-f91d-4d5a-87bf-471693746257',\n",
       " '01791ab6-d8bb-405a-8f90-818e3fbb6891',\n",
       " '623679b0-e4e5-4094-b5bf-fdb8a2ce6bc5',\n",
       " 'c149b736-512a-4a16-9809-487170c5bcef',\n",
       " '27eb664e-65d2-4c02-ad1a-e3431892fd93',\n",
       " '394ed8c4-b6ed-408f-8d83-bcf287e54468',\n",
       " 'd239247d-eb89-409b-8007-14dd36edee75',\n",
       " '0ba5b493-9033-41c9-adfb-b40c6302aace',\n",
       " '51cde8ab-1b7a-469a-a2b5-b321704864d4',\n",
       " '4c0f8aab-c752-4737-a586-851d5f27f45a',\n",
       " 'dad946b6-4bb1-4547-b687-a6cbcca92140',\n",
       " 'c2c14d30-3c8b-49f3-ab7b-5ed47add609d',\n",
       " 'cc0121b8-a00a-40fb-9b73-afa68363db2a',\n",
       " '16b689af-66cc-4ed4-bdac-f08d28746089',\n",
       " '1b7713b4-a142-4920-bc69-717721f59730',\n",
       " '5cff4a83-4de9-4bae-a89e-0df8afdd7837',\n",
       " 'c811eff9-974f-4cd5-8cd4-e6aaa8a3afcc',\n",
       " '73229525-3eb5-419a-acd8-931956c3e7df',\n",
       " 'eca59164-8f9f-425c-8c3a-c5c5c7cc37db',\n",
       " '54f26044-2cd0-4aed-adab-b4237c872220',\n",
       " '6780c378-f58b-4ca6-8fea-0c8494388d51',\n",
       " '793d218c-6ee3-461e-b02f-3489330f7cd9',\n",
       " 'd0a79a46-9de4-4f35-9cd6-1d476b6d975a',\n",
       " '759f37fc-d8d1-4a41-8aa0-3b005c8ddf76',\n",
       " '45ac1f82-424a-4d9e-9b23-4235215d0b0b',\n",
       " '345b7f4c-2739-4335-87c3-f6d391dfe9fe',\n",
       " 'a7dbc17a-90e2-4688-869d-6ddb41b2ed38',\n",
       " '4d5ba31c-92d7-44eb-aacd-80b3ae622bf6',\n",
       " 'f44145bb-c04c-493f-937e-ed9afe1821e7',\n",
       " '9abccbb6-52a6-42c0-9eff-7e5c7725836d',\n",
       " '22e64c3c-6a3a-4b66-b0d2-a694ff4d006b',\n",
       " '8263f718-492f-4def-af1d-618f884de1b9',\n",
       " '776a4e0c-aeef-4e5e-8cf1-637b358451db',\n",
       " 'fc077cfc-d7b9-4ac7-86b3-eff5bc7fb42f',\n",
       " '1ce3c80e-80c2-4c63-afb7-0264dfa9bb0e',\n",
       " 'f48f64e2-d842-4034-9eed-a41211baf7e4',\n",
       " 'bb388b83-3318-41a7-a327-43f763f9779f',\n",
       " '860a99a6-bba1-46de-807d-919a492881a1',\n",
       " 'da7d56fe-e860-4175-96a2-45bb0bfa54a3',\n",
       " '89c33d21-955f-4ad0-85aa-5f1fd15aae16',\n",
       " '8043d482-11e1-4bae-8a78-6bc2b303ed95',\n",
       " '6cfae1c2-a610-4c94-8d2e-a3a9d95c8f4c',\n",
       " 'db0d57de-f62b-48d0-b015-45efb0a1b934',\n",
       " '34c82a82-12c3-494b-b0ea-4f1658ee71a1',\n",
       " '169328a7-871a-4e42-a6fe-a170f1818b40',\n",
       " '37534d54-7b9b-435f-b9e0-61d42c5f9d1a',\n",
       " '8e972fba-fec4-4121-9cc2-d5f16c72e148',\n",
       " 'd6067f92-2598-4bbd-8dc5-6a47d4dfc689',\n",
       " '19c28efe-06e0-4aea-99a8-c3a2c198d16d',\n",
       " 'f027d7c1-053b-4feb-ac08-493ace56fae4',\n",
       " '03c4f402-41f1-4f2b-9638-d9a50ec1161e',\n",
       " '10f5c9d2-5ab9-4cbc-b525-ef4614562e9f',\n",
       " '37243508-ba54-49ae-8cf6-522c9552971c',\n",
       " 'a0d87b24-d931-4739-8087-f2b5586c3b58',\n",
       " '0bac00f8-c847-4b3c-9461-4b7fb4293faf',\n",
       " '8df910de-a387-47ef-81f5-951c81e3ad54',\n",
       " '8f0e56e9-2cf1-4dcf-8345-ae3e53e4c94e',\n",
       " '07041fec-3fe6-413d-ab8f-8cb0d9865cbd',\n",
       " '3370dcee-5598-436e-908a-97b2b7489c87',\n",
       " '2a52ca7d-a254-45a9-9e9a-10f9e855d768',\n",
       " '663dc9cf-67a0-4127-8b37-75343c7c401b',\n",
       " 'a757bb30-3190-4387-a75b-1dc164a26247',\n",
       " '6714abc8-5f31-4434-8510-f19a416c0dbe',\n",
       " '5a742501-f1ec-4440-a1c2-8f96b6938373',\n",
       " '65bb70fd-3be9-415d-ab65-03ab9839664d',\n",
       " '33108d2d-a14f-492c-9297-ea06901ea6f7',\n",
       " '341b84e0-f25f-4259-9d6c-3c7c6ad47d99',\n",
       " '00147a19-4703-4a2a-8054-65f26b745392',\n",
       " 'b5766639-ea7c-4666-9730-623c6a73c86f',\n",
       " 'f592a6c1-d24e-49f4-ab7b-796cad71d736',\n",
       " 'cf16dfd7-ac38-47cf-ba2e-79def86bd934',\n",
       " '91f27081-cc26-4a6c-ac7a-336e0c2cbba3',\n",
       " 'b4cc92b2-dc17-40ad-ab1a-2dc10dddf5a6',\n",
       " '0c7ceb9d-d07a-456c-acb0-02290b1aeb8e',\n",
       " 'e6c97fab-43c4-4c53-bb72-67902744e160',\n",
       " 'd980513d-6434-47d2-9ff0-d03b1c5ebea0',\n",
       " 'd621aa02-bd13-4607-b29b-fa9a703316cd',\n",
       " 'b28d5d99-7e36-4c62-b947-558ba66673b2',\n",
       " '7b9c11d1-431a-4c9b-b88e-960adf796dad',\n",
       " '0bf0595c-f9e2-483f-b402-72c1813a2d5e',\n",
       " 'f94b9f1e-dada-442b-a961-a73689b60932',\n",
       " '87348259-7803-4e4b-9f24-177d5a1c6f7c',\n",
       " '72ec9867-785a-4bbc-8a1e-52ad23bc5b06',\n",
       " 'f7f35cd4-7785-4f95-92d8-968787cd9a5a',\n",
       " '525f2a99-fba6-4b01-942b-4613e88d377f',\n",
       " '9bf01d7c-3bd6-4ad4-a94f-e32df5db9f75',\n",
       " 'de5eabdb-d2da-4f42-a6a7-9ebbe4d0460f',\n",
       " '362b5c8c-ea08-40bd-913a-2f8238b84b3c',\n",
       " '1fb89800-8991-4537-a0f9-e46dcb172e45',\n",
       " '7d1ec01b-0c92-461e-924f-de1fcdbb7aaa',\n",
       " 'be03d6bc-b8c9-4529-be33-749f0d507abd',\n",
       " '1e319cdf-51b3-425f-b78d-f71fad9d3097',\n",
       " 'c95c42b6-ecbd-418f-8733-ef8eb91975ce',\n",
       " '964aa535-bbed-4af4-b6df-876b493dcaae',\n",
       " 'dde92a39-aee8-470f-88cc-a0e6232ecdfc',\n",
       " '1c51607d-0091-4811-a291-a7aaa49359ef',\n",
       " 'fd7df671-0989-4a43-b805-56f4dba2d562',\n",
       " '7de17c27-c129-43fe-9c35-7edd455ca110',\n",
       " '8ec1e1f4-fce6-4e41-ae2d-53b7947607e9',\n",
       " '76bf0d98-a55f-4b4a-8e1f-1522fbdc29d1',\n",
       " 'c7c7421b-5e56-4532-b481-e74554f30aec',\n",
       " '5b51d8ad-2e34-46c4-9a11-edfc21950566',\n",
       " '74166a8c-fb2c-4388-a0d9-7c2996e4a7f7',\n",
       " '7a49eb67-2a81-4811-a3dc-7f76e99cc1f2',\n",
       " '69a1105c-3ce6-484e-a540-1e383dc31c9f',\n",
       " 'a463a10f-fcd5-4d38-9906-33c8103b4de4',\n",
       " '41fea0b2-5305-4fd3-a70e-924bdac51079',\n",
       " '2fbf37da-c9e5-43c9-80ea-663167db3879',\n",
       " '4962a70e-b81b-42fd-bc52-ffc83b0c8a62',\n",
       " '5697e13a-534e-44ce-8252-b40d3bedc74d',\n",
       " 'c89f8a47-1976-44be-8787-4307864bb411',\n",
       " 'd2db4fe3-8cc7-4dbe-82d9-d7718aa12611',\n",
       " 'e91c9626-2d56-4f07-8abc-3c623632f253',\n",
       " '9d531a48-573f-49b1-9c98-334ff23b871e',\n",
       " 'e74a7adb-b3d7-4f5c-98d3-6cb5d3e95e8a',\n",
       " '1f9000a0-09b9-4f68-a822-a203b206ebc9',\n",
       " '00fe47c0-544f-43f5-bcd9-34566b0213e1',\n",
       " '31eae618-9d4a-4c33-bd69-e88c4ed4fab7',\n",
       " '7c4b483e-6090-44f7-9ec3-1de9f192ea3c',\n",
       " '659a7733-4b55-4b66-b3a6-c4b2a0aac456',\n",
       " 'e1de431c-5a18-49cd-bdc8-fec952698466',\n",
       " 'db88c6ab-e09a-4016-ad40-70295bf6d610',\n",
       " 'bc45876a-598c-4804-8fa6-a3d651720a19',\n",
       " '85420539-78f9-4394-8ca5-21b1fa409506',\n",
       " '4433ecc7-a1ce-4cdc-82c9-97d8d3c27fc3',\n",
       " 'b072f6d4-9a68-4274-8b4f-65dac4f05d6f',\n",
       " '85ed3a9d-16f2-4b9b-a5c3-00b398638c1f',\n",
       " '267e5900-5661-4f50-8824-171b3bd590de',\n",
       " '36740fbd-c3cf-4711-83ce-22a87a3df706',\n",
       " 'af17379e-b480-4c2b-bb7e-addb76919e66',\n",
       " '9019ac43-73c7-40a4-ace9-001021956d41',\n",
       " '7c849e33-95fa-4a66-aa3b-bfbe8389286d',\n",
       " '60b2367d-e5af-4a3d-b4fd-4cd7eebb1d65',\n",
       " '39b801dd-a408-4b23-973b-7a551dda05ba',\n",
       " '09d1b748-101c-4841-8d38-64eb93712bc2',\n",
       " 'a6d91ae4-cb35-4dbf-9e2a-d1fc1f15a883',\n",
       " '00bfd149-5655-4044-8be6-76cb664e3e8a',\n",
       " '415f61bf-4d0f-49de-b82d-752a2efdff3f',\n",
       " '4d09acad-0534-47af-b8a8-34719e8f3bc6',\n",
       " '2299831a-e89b-46d2-b8f8-79917380adec',\n",
       " '2ebcd6e2-2643-422f-97a0-5826f50cea90',\n",
       " '6d6241e9-897b-4350-bc64-42b85f8b732d',\n",
       " 'ceae1f0d-17b1-4d38-92d2-5600d577f16a',\n",
       " 'd0eabe81-569d-4c1f-91e0-7d367cd7fc3d',\n",
       " 'd7c142fe-796b-4891-bb20-f2c5b2779f01',\n",
       " 'dbf02d9b-4962-4023-a6bd-f4b11f8e3e23',\n",
       " 'e096861e-65b9-41b6-8724-23ad59247e6d',\n",
       " '5d909213-741d-44d3-89f5-c67629e896dc',\n",
       " '308c2b88-6742-4179-857a-0684975b6dfe',\n",
       " 'e9af042e-136d-4531-8883-ffe55cee748c',\n",
       " '2b75beb1-10ee-42c3-a55a-04532a10e015',\n",
       " '98b45db3-dfe9-4108-a87a-d3ef6651a779',\n",
       " 'c9af2718-078e-443f-9113-f65fc5b6e732',\n",
       " 'df88e126-b4e6-4436-bfe6-0502f7f26a26',\n",
       " 'b2d9dcc7-6b7c-4d87-9a3e-a21af7abdba5',\n",
       " 'f1f8a0fc-5018-43ac-bf34-f9ce7a2e6fe4',\n",
       " 'c66bae93-0f5c-4498-95f1-4bdd772aebf2',\n",
       " '46dc9a32-fbac-4120-8565-c9dfde60d913',\n",
       " '81f783e3-e944-4b27-a44f-ae6d440e9fea',\n",
       " '01375216-a24f-4b5a-9784-943b7b7126a0',\n",
       " '5618c6b8-297d-42d8-b87d-3df98ddf4f31',\n",
       " '3ed10a51-8c92-4e4a-80ba-2cb0b5575d30',\n",
       " 'dca37eff-0620-4515-8987-0fa55d15f6d2',\n",
       " 'bca7693f-4c21-4429-8209-5ef73476870c',\n",
       " '097ad784-109b-4bcb-b7b7-2a8366c75fa1',\n",
       " 'ec04a302-2ab6-47ca-9c35-7605bef7292b',\n",
       " 'f9a6ea7f-a726-40be-ba0e-487fda91204c',\n",
       " '88cf4dd2-7a36-4f26-8abd-e6181f0652b0',\n",
       " '9a53b7f6-171a-4a20-8756-ea9dde5d1b08',\n",
       " '83011217-6833-4367-bead-369e0af2f55d',\n",
       " '2589c7be-0225-4c19-bc0f-7962a225221e',\n",
       " '65d69ea1-6467-4030-b8cc-7b6cd6d12803',\n",
       " 'de6d7065-b552-45db-928c-0d61619a3149',\n",
       " '28e52df9-e1c2-4e77-8c70-869bfaec9526',\n",
       " '4276541a-6984-4cd1-80c9-6e6090eb0f9e',\n",
       " '144d70c0-b29e-483c-bb7c-e02696636e7d',\n",
       " '09a8f4c0-94eb-4b6b-8850-b87240c29b35',\n",
       " '5fc1f3bb-86e5-4fe3-8031-a9205e99b16a',\n",
       " '7ed6d86c-98e2-4c69-9e5b-d6a4dc9ec539',\n",
       " 'a4409131-ee53-453d-a9b0-6f8f43c02c4c',\n",
       " '3b4ae6a9-df2c-4dda-94f8-7affb573e302',\n",
       " '5f7fc76e-e478-4bd6-84e9-acec4b00481c',\n",
       " '84c7d27d-b8a5-4c26-b696-199ca7f2206c',\n",
       " '29df68e4-e9a7-457d-9ba4-7239a3ede463',\n",
       " '1f7375b2-0efe-4a22-9e75-4c2479eff0ad',\n",
       " '1fe4b3d5-ea29-4795-84c9-59f9572f4794',\n",
       " '2d1f6eea-389d-45c5-9fa8-ce612429c2bb',\n",
       " '4a921273-5ff2-4479-9112-bb924f3571e9',\n",
       " 'a07e4058-edf6-41d9-8410-523919326fa9',\n",
       " '317a6a3f-8707-4d79-b7d3-7f55d23a00d0',\n",
       " '53463986-5e41-436f-a58e-61528807c421',\n",
       " 'f1d218d6-72bf-4649-8a31-a8f618afba94',\n",
       " '1ec66d2e-5277-40a1-a6f3-366c4bf1065a',\n",
       " '59a29c5d-067c-462e-a14d-68417d4b365f',\n",
       " '3d5ff5a3-af5e-4d5f-947d-ce91d8fe4b4b',\n",
       " 'bc55895c-3eed-4a6f-b3b6-1d28605771af',\n",
       " 'adeca8c9-7b52-4b97-a866-5b715b7083a9',\n",
       " '15438650-6851-4ec6-8c45-ee796c1ce8f0',\n",
       " '7dfa9475-b265-4a3f-8d97-e728cbb903f3',\n",
       " 'c4fd3b0d-a941-4e06-a467-5451508bd787',\n",
       " 'daa2fb3a-ccee-4d40-b83d-8a3830c1f5dd',\n",
       " '9f382a8d-80c3-4bf1-a3ab-e392329c7fe9',\n",
       " '2011b1b4-6e4c-4e17-a240-6dc90a5ee764',\n",
       " '73dd25ad-718e-4850-af8d-b604451bfe7b',\n",
       " '6d0ea16c-a6bb-4082-bac8-c09e2399e7c7',\n",
       " '4113141a-b3d9-48f1-9c57-df17919b36c0',\n",
       " '85c12925-d6a2-456b-af38-b757888deaea',\n",
       " '9ffc462d-401c-4d7b-b35d-439779fd737f',\n",
       " '5151496b-e4ab-439d-8aee-774fda4a3688',\n",
       " 'b61d779c-4f97-4620-b369-9c695acccc28',\n",
       " '4ba1a5b7-d73f-4fef-9e80-558550023559',\n",
       " 'ee41bd74-ce5c-424f-bb7e-6be025576a80',\n",
       " 'caac91f0-11d4-433c-8273-485f5b2f59be',\n",
       " 'f2bf036b-80b2-4506-8757-5490850974fd',\n",
       " '22957920-1e4e-4662-89ae-410654c66372',\n",
       " '8d2917e6-6567-48b8-89bb-44e853731c22',\n",
       " '6a1764b0-00ca-410a-b60e-094ed379a26f',\n",
       " 'd7cdb83d-08ad-44d1-86b1-8aadaea92724',\n",
       " 'b5057ecb-0b29-4f7f-913d-4b6df7184df8',\n",
       " 'ad26dbd9-29a5-433f-922e-2fea5ee0762e',\n",
       " 'ace35b2e-dc39-468b-bd65-012105f53c38',\n",
       " '4662b4b9-bc31-45a0-b694-85fdbf540d01',\n",
       " '79d63a10-401c-4cef-8027-35d93b31e8e6',\n",
       " '133a4ba8-7d2d-40cc-ae80-c86a736d8159',\n",
       " 'd44e11e7-709d-470a-8ed0-53294c742c59',\n",
       " '6f7cbbe2-e7f0-4383-9849-a667a4dc32f2',\n",
       " '97550c8f-671c-484c-b982-700c31734fb9',\n",
       " 'c727bbd1-ab87-45b7-b243-448b8c2bdc46',\n",
       " '4553ec55-82f8-4160-8c7a-04470a78d818',\n",
       " '6980eb58-c37d-4ee0-bf26-ef1f19082225',\n",
       " 'eef64f06-78f7-464d-92ff-c02003c44f85',\n",
       " '2c5592c2-c679-4a41-909a-0538c3ec86d8',\n",
       " 'd1868d40-8c77-46ac-b91a-d70cd4892ba5',\n",
       " '90a36bde-9e99-4439-9afa-c1f806270d17',\n",
       " 'c83ab998-fd2b-4790-ab09-a4e389c0d24f',\n",
       " 'e6ee91cb-a97d-40eb-8c2a-8bdd1d9ef5fa',\n",
       " 'fd16be4a-eb43-41cf-b5ec-435269aa1d2f',\n",
       " '4ed2f7ce-4b0e-40da-9818-0ef4b4dee861',\n",
       " '934cc637-c259-4228-8bc6-a029bf1c8a79',\n",
       " 'bd6c8f4c-a72c-42be-b722-a52c668eab88',\n",
       " '897d9239-0d7f-4441-bc42-dccf28aafe52',\n",
       " '85669ce0-d3bf-429a-9ce4-7b37e3cdc734',\n",
       " 'c1e8a9c5-7234-4f26-913f-973f03fa8f9c',\n",
       " '7504f25e-cf2c-4242-b292-527ae98bcf5d',\n",
       " 'c7308713-c0e3-438c-99b6-73c04d4da67a',\n",
       " 'aa2d6a3f-105c-42bc-a7ec-b1fa72eb8afc',\n",
       " '2ada5e93-6543-4963-93e5-0861b81f6559',\n",
       " '94f3fded-19af-47db-9705-5b5f2026cbc5',\n",
       " '20da3f65-56ff-4ce9-b658-65e764f40332',\n",
       " '1db6c462-1813-42af-af0a-c5e51380ed70',\n",
       " '25576da5-6d13-49e5-a276-07f980fb0adb',\n",
       " '4f5d3038-bc8d-40e6-9a61-f3456afe4cd8',\n",
       " '28be6bdf-9117-437f-81d3-eaa1f1d7137f',\n",
       " '4c4a0579-958f-4e06-9204-6489a6d0d10b',\n",
       " '8eea632f-b8fa-46ee-828c-8d484facba55',\n",
       " '16467498-776d-4090-9706-5eff1597719d',\n",
       " 'c1fe85a7-acdd-4c1b-91d3-f2f3fb7039d5',\n",
       " '8350e9b2-a551-4c78-b43a-8314064b3a8d',\n",
       " '9256dad6-03e5-4910-a119-c4d9aac0a089',\n",
       " 'beeed515-26db-48fd-8006-3c1eab1de621',\n",
       " '2e3b30d7-933b-42ce-af38-9e40035415fe',\n",
       " 'a4f5b512-f6a6-4e92-867f-0cf1fbfd36b9',\n",
       " '4fd8de62-bf83-4482-bfc6-915f9afc3e12',\n",
       " 'ba06ce16-ce3b-4612-9c09-94aff2a7b0bd',\n",
       " '84e54c16-1f01-48a4-83e3-01fb88c89de1',\n",
       " '17507127-d43c-4ac9-a26b-2fba89f1a417',\n",
       " '985a3f1e-69a3-41ce-8e14-bc4ec74f0961',\n",
       " '9ff1f54a-457d-4f06-bbf6-abdcd4f5fe19',\n",
       " '6fbfe022-5ed6-4db6-89dc-2de11042b426',\n",
       " '4bec0a27-f29d-4345-9cc2-f37272aedd8d',\n",
       " '9a8ace04-8f95-4dae-be4e-83a80e4236e4',\n",
       " '820fa929-b2d2-43f2-917f-4ed6d04e0c56',\n",
       " '20da9ed6-5422-43b4-a991-ebc1a0b5498f',\n",
       " 'dbbaf9d0-1d29-455b-bac1-d464996c8145',\n",
       " 'b69e648d-e0bd-4fc2-adc3-754ebf70f804',\n",
       " 'df2ad66f-bab7-40af-8b85-15b553f7f01b',\n",
       " '0969a209-f692-446b-b277-e04af636a692',\n",
       " '14d2103d-a109-4c1d-9188-cf08008f856b',\n",
       " '3bfbb9ce-1d27-46a1-a648-635d33b12e9b',\n",
       " '44af9a44-f5de-4c9a-bc27-093128ccd173',\n",
       " '48420b66-fcaa-45f7-8ce1-42e7a4218727',\n",
       " '36f61fd1-b164-46d8-b351-32230b863eea',\n",
       " 'fb172367-8ac1-4ac8-a949-7b50f4d7dfbd',\n",
       " '9d7fa985-e9e2-4477-a265-1ddbd30bd58e',\n",
       " '8082bb6c-b2ef-4249-9f77-f004c0d3bbaa',\n",
       " '85911b79-c6a3-4112-aec5-7beb8209c079',\n",
       " '8ab1fbba-a583-4caa-bdf7-ac3c618e0c1f',\n",
       " '7098fe5c-ea36-4a81-ad85-b0553c1c424e',\n",
       " '3b550de8-fda9-4a0a-b2d8-01b70cd96b77',\n",
       " 'aa7d091c-ac66-4f00-9c33-ae114ed59c68',\n",
       " 'e23daa32-54d3-4db7-b999-4082ce7ebe1a',\n",
       " 'dee14b5d-38b9-4d94-b726-73f6e837ba3d',\n",
       " 'f9cde279-1460-4570-a23e-64c4b3d583c3',\n",
       " '76724e30-2611-40d6-8a87-7e06ed82345e',\n",
       " 'ef2511e2-93c6-4793-a3f3-2eac0ad212a0',\n",
       " '2d55505f-7e9f-481c-ab4f-bc4aa16fbdb6',\n",
       " 'c5ab00a1-9e2e-4534-b2be-a517e6c4be30',\n",
       " '610c07b5-e50f-45de-a8be-04eaf70f3406',\n",
       " '4d5ac54e-5e00-41ac-8c90-7cee8aa07b2a',\n",
       " 'b87e8403-fd4a-4b9c-9ef5-19dd60b2acd9',\n",
       " '8d4c3bf5-45d9-42b4-85f5-a2da4f72fcf1',\n",
       " '6762d8cc-9e77-4650-b4ae-13d566143291',\n",
       " 'd37b3913-e79d-4397-a67d-17102e55b662',\n",
       " '86a02906-0d98-458d-b8c4-c479ccd4d8b5',\n",
       " '5d845c86-c3d9-4601-822b-3ce4bc49bfc9',\n",
       " '0e701c01-8b79-4a36-a750-349d27d367c7',\n",
       " '2e05de71-d11f-4eef-bdb4-c19df9a427c3',\n",
       " 'ef25a5eb-854f-437e-8133-e02802c9e489',\n",
       " 'fbae46ba-8dad-4970-8685-9f2dbfb72187',\n",
       " '97ba1c25-413f-43ee-aa6a-54fa8d9169ae',\n",
       " '531c6c97-2357-4d69-9da5-cf8a857932fe',\n",
       " 'c97dd7e5-896d-412e-8f43-779ee207f71e',\n",
       " '61680f23-54ab-4f81-8769-5baee72c93de',\n",
       " 'ea42ba4d-d7eb-4d8e-bfe9-b5d158f8956b',\n",
       " '736d5793-ba1d-4aee-bfa2-9a37824fba60',\n",
       " '08da1cfe-a0a3-475a-ba44-e18a9eed67f3',\n",
       " '6d07b184-9f1f-4b12-9ee0-2684900e2239',\n",
       " 'eaab6e5a-0c6a-4c38-b288-ce6f5a7d6a38',\n",
       " '0497ba35-ceca-4559-a508-a86d93817db1',\n",
       " 'd1b5be72-19d7-43c0-bc0d-0eed9978ef2b',\n",
       " 'a7304882-561e-4c51-9e96-0c52cf0386f2',\n",
       " '0eff3bb6-bf5c-4c7c-8394-f5c332ccf1f8',\n",
       " '1b4c992e-57c5-4f8a-8161-e9fc878f15e7',\n",
       " '0482ca2b-98f0-4d35-9a66-17a38f8fe41c',\n",
       " 'ef1e59ba-6992-4b1f-a438-97cc176c8637',\n",
       " 'fb26dcb9-767f-4bab-b4d3-0ca225200165',\n",
       " '0e8b34d7-2ada-4657-8b83-7e754fe3dad5',\n",
       " 'f9f39a9f-6f47-4fc0-b54f-7f40526412ae',\n",
       " '4b72d335-74d0-4d94-9463-75fcaa7cea06',\n",
       " 'e27f894b-4d0f-40b4-9b73-bfae25385f4b',\n",
       " 'a7e4e384-de2a-4bf0-97bc-4acaa60b05f5',\n",
       " '13e76b2b-57c0-484e-8592-f870b920660b',\n",
       " 'c21a1d26-2f45-4f62-8b98-a9cbc5ae9209',\n",
       " 'e130b3b9-5d70-45bd-a27d-1c7f501ca2a1',\n",
       " '053b1acf-ea8d-42e8-885c-a3bf568d45f1',\n",
       " 'e1346b9c-ed12-4827-98e0-d62de131e789',\n",
       " '7cc0a86e-a057-403f-9a00-31e6ea3461c5',\n",
       " '556c8003-f635-4aaf-bd79-a25144576236',\n",
       " 'e165e46d-2268-4769-9b43-8ca6f7dcad89',\n",
       " '8c05988e-9407-4486-88f1-82af8c86fd33',\n",
       " 'aca67a50-b773-4494-a73a-331f9d865de8',\n",
       " '673baa40-e2d4-4b3d-bca6-bc96c4aeaf77',\n",
       " 'e1914e75-ed0c-4e9e-9351-c35745fe6156',\n",
       " 'aa0275b2-99cc-469f-84c4-70f8b8935e1e',\n",
       " '6c4999db-8b6b-485c-8fd3-e7d9d4794ba7',\n",
       " '7070241c-c160-4c47-9b4a-7e04f770e5e5',\n",
       " 'b4a85c0b-b4eb-425f-a027-546d351fb9b1',\n",
       " '5c3ff659-f147-41d2-af0b-59673fe3556f',\n",
       " '01f9b060-a83e-4dc7-984a-9470e2137d95',\n",
       " 'b72f6255-72ab-4930-b8a2-7605f209d47a',\n",
       " '9184b4ba-4f47-40fd-ba1c-0283d77bdaa6',\n",
       " '45757976-249b-42a9-9284-38f12280e6e8']"
      ]
     },
     "execution_count": 27,
     "metadata": {},
     "output_type": "execute_result"
    }
   ],
   "source": [
    "vector_store = InMemoryVectorStore(embeddings)\n",
    "ids = vector_store.add_documents(documents=all_splits)\n",
    "#ids"
   ]
  },
  {
   "cell_type": "code",
   "execution_count": 28,
   "id": "36cf909d",
   "metadata": {},
   "outputs": [
    {
     "name": "stdout",
     "output_type": "stream",
     "text": [
      "page_content='operations. We also lease an office complex in Shanghai, China, our headquarters for our Greater China geography, occupied by employees focused on implementing our\n",
      "wholesale, NIKE Direct and merchandising strategies in the region, among other functions.\n",
      "In the United States, NIKE has eight significant distribution centers. Five are located in or near Memphis, Tennessee, two of which are owned and three of which are\n",
      "leased. Two other distribution centers, one located in Indianapolis, Indiana and one located in Dayton, Tennessee, are leased and operated by third-party logistics\n",
      "providers. One distribution center for Converse is located in Ontario, California, which is leased. NIKE has a number of distribution facilities outside the United States,\n",
      "some of which are leased and operated by third-party logistics providers. The most significant distribution facilities outside the United States are located in Laakdal,' metadata={'producer': 'EDGRpdf Service w/ EO.Pdf 22.0.40.0', 'creator': 'EDGAR Filing HTML Converter', 'creationdate': '2023-07-20T16:22:00-04:00', 'title': '0000320187-23-000039', 'author': 'EDGAR Online, a division of Donnelley Financial Solutions', 'subject': 'Form 10-K filed on 2023-07-20 for the period ending 2023-05-31', 'keywords': '0000320187-23-000039; ; 10-K', 'moddate': '2023-07-20T16:22:08-04:00', 'source': 'nke-10k-2023.pdf', 'total_pages': 107, 'page': 26, 'page_label': '27', 'start_index': 804}\n"
     ]
    }
   ],
   "source": [
    "results = vector_store.similarity_search(\n",
    "    \"How many distribution centers does Nike have in the US?\"\n",
    ")\n",
    "\n",
    "print(results[0])"
   ]
  },
  {
   "cell_type": "code",
   "execution_count": 29,
   "id": "c6196296",
   "metadata": {},
   "outputs": [
    {
     "name": "stdout",
     "output_type": "stream",
     "text": [
      "page_content='Table of Contents\n",
      "PART I\n",
      "ITEM 1. BUSINESS\n",
      "GENERAL\n",
      "NIKE, Inc. was incorporated in 1967 under the laws of the State of Oregon. As used in this Annual Report on Form 10-K (this \"Annual Report\"), the terms \"we,\" \"us,\" \"our,\"\n",
      "\"NIKE\" and the \"Company\" refer to NIKE, Inc. and its predecessors, subsidiaries and affiliates, collectively, unless the context indicates otherwise.\n",
      "Our principal business activity is the design, development and worldwide marketing and selling of athletic footwear, apparel, equipment, accessories and services. NIKE is\n",
      "the largest seller of athletic footwear and apparel in the world. We sell our products through NIKE Direct operations, which are comprised of both NIKE-owned retail stores\n",
      "and sales through our digital platforms (also referred to as \"NIKE Brand Digital\"), to retail accounts and to a mix of independent distributors, licensees and sales' metadata={'producer': 'EDGRpdf Service w/ EO.Pdf 22.0.40.0', 'creator': 'EDGAR Filing HTML Converter', 'creationdate': '2023-07-20T16:22:00-04:00', 'title': '0000320187-23-000039', 'author': 'EDGAR Online, a division of Donnelley Financial Solutions', 'subject': 'Form 10-K filed on 2023-07-20 for the period ending 2023-05-31', 'keywords': '0000320187-23-000039; ; 10-K', 'moddate': '2023-07-20T16:22:08-04:00', 'source': 'nke-10k-2023.pdf', 'total_pages': 107, 'page': 3, 'page_label': '4', 'start_index': 0}\n"
     ]
    }
   ],
   "source": [
    "results = await vector_store.asimilarity_search(\"When was Nike incorporated?\")\n",
    "\n",
    "print(results[0])"
   ]
  },
  {
   "cell_type": "code",
   "execution_count": 30,
   "id": "85e95ceb",
   "metadata": {},
   "outputs": [
    {
     "name": "stdout",
     "output_type": "stream",
     "text": [
      "Score: 0.6882448936387797\n",
      "\n",
      "page_content='Table of Contents\n",
      "FISCAL 2023 NIKE BRAND REVENUE HIGHLIGHTSThe following tables present NIKE Brand revenues disaggregated by reportable operating segment, distribution channel and major product line:\n",
      "FISCAL 2023 COMPARED TO FISCAL 2022\n",
      "• NIKE, Inc. Revenues were $51.2 billion in fiscal 2023, which increased 10% and 16% compared to fiscal 2022 on a reported and currency-neutral basis, respectively.\n",
      "The increase was due to higher revenues in North America, Europe, Middle East & Africa (\"EMEA\"), APLA and Greater China, which contributed approximately 7, 6,\n",
      "2 and 1 percentage points to NIKE, Inc. Revenues, respectively.\n",
      "• NIKE Brand revenues, which represented over 90% of NIKE, Inc. Revenues, increased 10% and 16% on a reported and currency-neutral basis, respectively. This\n",
      "increase was primarily due to higher revenues in Men's, the Jordan Brand, Women's and Kids' which grew 17%, 35%,11% and 10%, respectively, on a wholesale\n",
      "equivalent basis.' metadata={'producer': 'EDGRpdf Service w/ EO.Pdf 22.0.40.0', 'creator': 'EDGAR Filing HTML Converter', 'creationdate': '2023-07-20T16:22:00-04:00', 'title': '0000320187-23-000039', 'author': 'EDGAR Online, a division of Donnelley Financial Solutions', 'subject': 'Form 10-K filed on 2023-07-20 for the period ending 2023-05-31', 'keywords': '0000320187-23-000039; ; 10-K', 'moddate': '2023-07-20T16:22:08-04:00', 'source': 'nke-10k-2023.pdf', 'total_pages': 107, 'page': 35, 'page_label': '36', 'start_index': 0}\n"
     ]
    }
   ],
   "source": [
    "# Note that providers implement different scores; the score here\n",
    "# is a distance metric that varies inversely with similarity.\n",
    "\n",
    "results = vector_store.similarity_search_with_score(\"What was Nike's revenue in 2023?\")\n",
    "doc, score = results[0]\n",
    "print(f\"Score: {score}\\n\")\n",
    "print(doc)"
   ]
  },
  {
   "cell_type": "code",
   "execution_count": 37,
   "id": "8ab738a0",
   "metadata": {},
   "outputs": [
    {
     "name": "stdout",
     "output_type": "stream",
     "text": [
      "page_content='Table of Contents\n",
      "GROSS MARGIN\n",
      "FISCAL 2023 COMPARED TO FISCAL 2022\n",
      "For fiscal 2023, our consolidated gross profit increased 4% to $22,292 million compared to $21,479 million for fiscal 2022. Gross margin decreased 250 basis points to\n",
      "43.5% for fiscal 2023 compared to 46.0% for fiscal 2022 due to the following:\n",
      "*Wholesale equivalent\n",
      "The decrease in gross margin for fiscal 2023 was primarily due to:\n",
      "• Higher NIKE Brand product costs, on a wholesale equivalent basis, primarily due to higher input costs and elevated inbound freight and logistics costs as well as\n",
      "product mix;\n",
      "• Lower margin in our NIKE Direct business, driven by higher promotional activity to liquidate inventory in the current period compared to lower promotional activity in\n",
      "the prior period resulting from lower available inventory supply;\n",
      "• Unfavorable changes in net foreign currency exchange rates, including hedges; and\n",
      "• Lower off-price margin, on a wholesale equivalent basis.\n",
      "This was partially offset by:' metadata={'producer': 'EDGRpdf Service w/ EO.Pdf 22.0.40.0', 'creator': 'EDGAR Filing HTML Converter', 'creationdate': '2023-07-20T16:22:00-04:00', 'title': '0000320187-23-000039', 'author': 'EDGAR Online, a division of Donnelley Financial Solutions', 'subject': 'Form 10-K filed on 2023-07-20 for the period ending 2023-05-31', 'keywords': '0000320187-23-000039; ; 10-K', 'moddate': '2023-07-20T16:22:08-04:00', 'source': 'nke-10k-2023.pdf', 'total_pages': 107, 'page': 36, 'page_label': '37', 'start_index': 0}\n"
     ]
    }
   ],
   "source": [
    "embedding = embeddings.embed_query(\"How were Nike's margins impacted in 2023?\")\n",
    "\n",
    "results = vector_store.similarity_search_by_vector(embedding)\n",
    "print(results[0])"
   ]
  },
  {
   "cell_type": "markdown",
   "id": "308585ed",
   "metadata": {},
   "source": [
    "## Retrievers"
   ]
  },
  {
   "cell_type": "code",
   "execution_count": 35,
   "id": "564ff515",
   "metadata": {},
   "outputs": [
    {
     "data": {
      "text/plain": [
       "[[Document(id='45ac1f82-424a-4d9e-9b23-4235215d0b0b', metadata={'producer': 'EDGRpdf Service w/ EO.Pdf 22.0.40.0', 'creator': 'EDGAR Filing HTML Converter', 'creationdate': '2023-07-20T16:22:00-04:00', 'title': '0000320187-23-000039', 'author': 'EDGAR Online, a division of Donnelley Financial Solutions', 'subject': 'Form 10-K filed on 2023-07-20 for the period ending 2023-05-31', 'keywords': '0000320187-23-000039; ; 10-K', 'moddate': '2023-07-20T16:22:08-04:00', 'source': 'nke-10k-2023.pdf', 'total_pages': 107, 'page': 26, 'page_label': '27', 'start_index': 804}, page_content='operations. We also lease an office complex in Shanghai, China, our headquarters for our Greater China geography, occupied by employees focused on implementing our\\nwholesale, NIKE Direct and merchandising strategies in the region, among other functions.\\nIn the United States, NIKE has eight significant distribution centers. Five are located in or near Memphis, Tennessee, two of which are owned and three of which are\\nleased. Two other distribution centers, one located in Indianapolis, Indiana and one located in Dayton, Tennessee, are leased and operated by third-party logistics\\nproviders. One distribution center for Converse is located in Ontario, California, which is leased. NIKE has a number of distribution facilities outside the United States,\\nsome of which are leased and operated by third-party logistics providers. The most significant distribution facilities outside the United States are located in Laakdal,')],\n",
       " [Document(id='d36a71a2-31f0-43ae-bd76-7ae7c3d88f60', metadata={'producer': 'EDGRpdf Service w/ EO.Pdf 22.0.40.0', 'creator': 'EDGAR Filing HTML Converter', 'creationdate': '2023-07-20T16:22:00-04:00', 'title': '0000320187-23-000039', 'author': 'EDGAR Online, a division of Donnelley Financial Solutions', 'subject': 'Form 10-K filed on 2023-07-20 for the period ending 2023-05-31', 'keywords': '0000320187-23-000039; ; 10-K', 'moddate': '2023-07-20T16:22:08-04:00', 'source': 'nke-10k-2023.pdf', 'total_pages': 107, 'page': 3, 'page_label': '4', 'start_index': 0}, page_content='Table of Contents\\nPART I\\nITEM 1. BUSINESS\\nGENERAL\\nNIKE, Inc. was incorporated in 1967 under the laws of the State of Oregon. As used in this Annual Report on Form 10-K (this \"Annual Report\"), the terms \"we,\" \"us,\" \"our,\"\\n\"NIKE\" and the \"Company\" refer to NIKE, Inc. and its predecessors, subsidiaries and affiliates, collectively, unless the context indicates otherwise.\\nOur principal business activity is the design, development and worldwide marketing and selling of athletic footwear, apparel, equipment, accessories and services. NIKE is\\nthe largest seller of athletic footwear and apparel in the world. We sell our products through NIKE Direct operations, which are comprised of both NIKE-owned retail stores\\nand sales through our digital platforms (also referred to as \"NIKE Brand Digital\"), to retail accounts and to a mix of independent distributors, licensees and sales')]]"
      ]
     },
     "execution_count": 35,
     "metadata": {},
     "output_type": "execute_result"
    }
   ],
   "source": [
    "@chain\n",
    "def retriever(query: str) -> List[Document]:\n",
    "    return vector_store.similarity_search(query, k=1)\n",
    "\n",
    "\n",
    "retriever.batch(\n",
    "    [\n",
    "        \"How many distribution centers does Nike have in the US?\",\n",
    "        \"When was Nike incorporated?\",\n",
    "    ],\n",
    ")"
   ]
  },
  {
   "cell_type": "code",
   "execution_count": 36,
   "id": "8dcfea4c",
   "metadata": {},
   "outputs": [
    {
     "data": {
      "text/plain": [
       "[[Document(id='45ac1f82-424a-4d9e-9b23-4235215d0b0b', metadata={'producer': 'EDGRpdf Service w/ EO.Pdf 22.0.40.0', 'creator': 'EDGAR Filing HTML Converter', 'creationdate': '2023-07-20T16:22:00-04:00', 'title': '0000320187-23-000039', 'author': 'EDGAR Online, a division of Donnelley Financial Solutions', 'subject': 'Form 10-K filed on 2023-07-20 for the period ending 2023-05-31', 'keywords': '0000320187-23-000039; ; 10-K', 'moddate': '2023-07-20T16:22:08-04:00', 'source': 'nke-10k-2023.pdf', 'total_pages': 107, 'page': 26, 'page_label': '27', 'start_index': 804}, page_content='operations. We also lease an office complex in Shanghai, China, our headquarters for our Greater China geography, occupied by employees focused on implementing our\\nwholesale, NIKE Direct and merchandising strategies in the region, among other functions.\\nIn the United States, NIKE has eight significant distribution centers. Five are located in or near Memphis, Tennessee, two of which are owned and three of which are\\nleased. Two other distribution centers, one located in Indianapolis, Indiana and one located in Dayton, Tennessee, are leased and operated by third-party logistics\\nproviders. One distribution center for Converse is located in Ontario, California, which is leased. NIKE has a number of distribution facilities outside the United States,\\nsome of which are leased and operated by third-party logistics providers. The most significant distribution facilities outside the United States are located in Laakdal,')],\n",
       " [Document(id='d36a71a2-31f0-43ae-bd76-7ae7c3d88f60', metadata={'producer': 'EDGRpdf Service w/ EO.Pdf 22.0.40.0', 'creator': 'EDGAR Filing HTML Converter', 'creationdate': '2023-07-20T16:22:00-04:00', 'title': '0000320187-23-000039', 'author': 'EDGAR Online, a division of Donnelley Financial Solutions', 'subject': 'Form 10-K filed on 2023-07-20 for the period ending 2023-05-31', 'keywords': '0000320187-23-000039; ; 10-K', 'moddate': '2023-07-20T16:22:08-04:00', 'source': 'nke-10k-2023.pdf', 'total_pages': 107, 'page': 3, 'page_label': '4', 'start_index': 0}, page_content='Table of Contents\\nPART I\\nITEM 1. BUSINESS\\nGENERAL\\nNIKE, Inc. was incorporated in 1967 under the laws of the State of Oregon. As used in this Annual Report on Form 10-K (this \"Annual Report\"), the terms \"we,\" \"us,\" \"our,\"\\n\"NIKE\" and the \"Company\" refer to NIKE, Inc. and its predecessors, subsidiaries and affiliates, collectively, unless the context indicates otherwise.\\nOur principal business activity is the design, development and worldwide marketing and selling of athletic footwear, apparel, equipment, accessories and services. NIKE is\\nthe largest seller of athletic footwear and apparel in the world. We sell our products through NIKE Direct operations, which are comprised of both NIKE-owned retail stores\\nand sales through our digital platforms (also referred to as \"NIKE Brand Digital\"), to retail accounts and to a mix of independent distributors, licensees and sales')]]"
      ]
     },
     "execution_count": 36,
     "metadata": {},
     "output_type": "execute_result"
    }
   ],
   "source": [
    "retriever = vector_store.as_retriever(\n",
    "    search_type=\"similarity\",\n",
    "    search_kwargs={\"k\": 1},\n",
    ")\n",
    "\n",
    "retriever.batch(\n",
    "    [\n",
    "        \"How many distribution centers does Nike have in the US?\",\n",
    "        \"When was Nike incorporated?\",\n",
    "    ],\n",
    ")"
   ]
  }
 ],
 "metadata": {
  "kernelspec": {
   "display_name": "Python 3",
   "language": "python",
   "name": "python3"
  },
  "language_info": {
   "codemirror_mode": {
    "name": "ipython",
    "version": 3
   },
   "file_extension": ".py",
   "mimetype": "text/x-python",
   "name": "python",
   "nbconvert_exporter": "python",
   "pygments_lexer": "ipython3",
   "version": "3.13.3"
  }
 },
 "nbformat": 4,
 "nbformat_minor": 5
}
